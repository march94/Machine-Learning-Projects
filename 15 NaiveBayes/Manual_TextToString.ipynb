{
 "cells": [
  {
   "cell_type": "code",
   "execution_count": 15,
   "id": "08261b20-2a4d-40bb-8453-211de3d930ba",
   "metadata": {},
   "outputs": [],
   "source": [
    "with open('./18-Naive-Bayes-and-NLP/One.txt') as mytext:\n",
    "    words_one=mytext.read().lower().split()\n",
    "    uni_words_one=set(words_one)"
   ]
  },
  {
   "cell_type": "code",
   "execution_count": 16,
   "id": "c941a4f6-8585-46de-baa5-18f50624e8c8",
   "metadata": {},
   "outputs": [
    {
     "data": {
      "text/plain": [
       "['this',\n",
       " 'is',\n",
       " 'a',\n",
       " 'story',\n",
       " 'about',\n",
       " 'dogs',\n",
       " 'our',\n",
       " 'canine',\n",
       " 'pets',\n",
       " 'dogs',\n",
       " 'are',\n",
       " 'furry',\n",
       " 'animals']"
      ]
     },
     "execution_count": 16,
     "metadata": {},
     "output_type": "execute_result"
    }
   ],
   "source": [
    "words_one"
   ]
  },
  {
   "cell_type": "code",
   "execution_count": 17,
   "id": "0dd2fcef-679a-4514-b40a-6ebd2acc083c",
   "metadata": {},
   "outputs": [
    {
     "data": {
      "text/plain": [
       "{'a',\n",
       " 'about',\n",
       " 'animals',\n",
       " 'are',\n",
       " 'canine',\n",
       " 'dogs',\n",
       " 'furry',\n",
       " 'is',\n",
       " 'our',\n",
       " 'pets',\n",
       " 'story',\n",
       " 'this'}"
      ]
     },
     "execution_count": 17,
     "metadata": {},
     "output_type": "execute_result"
    }
   ],
   "source": [
    "uni_words_one"
   ]
  },
  {
   "cell_type": "code",
   "execution_count": 18,
   "id": "d8116c14-7fde-46ea-a185-495f9e12fc90",
   "metadata": {},
   "outputs": [],
   "source": [
    "with open('./18-Naive-Bayes-and-NLP/Two.txt') as mytext:\n",
    "    words_two=mytext.read().lower().split()\n",
    "    uni_words_two=set(words_two)"
   ]
  },
  {
   "cell_type": "code",
   "execution_count": 19,
   "id": "0fe9398d-3c37-4904-ab9d-e5a25227a6bd",
   "metadata": {},
   "outputs": [
    {
     "data": {
      "text/plain": [
       "{'a',\n",
       " 'about',\n",
       " 'catching',\n",
       " 'fun',\n",
       " 'is',\n",
       " 'popular',\n",
       " 'sport',\n",
       " 'story',\n",
       " 'surfing',\n",
       " 'this',\n",
       " 'water',\n",
       " 'waves'}"
      ]
     },
     "execution_count": 19,
     "metadata": {},
     "output_type": "execute_result"
    }
   ],
   "source": [
    "uni_words_two"
   ]
  },
  {
   "cell_type": "code",
   "execution_count": 22,
   "id": "56df45f4-cfe0-45aa-a392-981081cab604",
   "metadata": {},
   "outputs": [],
   "source": [
    "all_uni_words=set()\n",
    "all_uni_words.update(uni_words_one)"
   ]
  },
  {
   "cell_type": "code",
   "execution_count": 23,
   "id": "403fc5c1-af0a-4c90-9665-0c433c23ef37",
   "metadata": {},
   "outputs": [
    {
     "data": {
      "text/plain": [
       "{'a',\n",
       " 'about',\n",
       " 'animals',\n",
       " 'are',\n",
       " 'canine',\n",
       " 'dogs',\n",
       " 'furry',\n",
       " 'is',\n",
       " 'our',\n",
       " 'pets',\n",
       " 'story',\n",
       " 'this'}"
      ]
     },
     "execution_count": 23,
     "metadata": {},
     "output_type": "execute_result"
    }
   ],
   "source": [
    "all_uni_words"
   ]
  },
  {
   "cell_type": "code",
   "execution_count": 24,
   "id": "54d52f02-2c79-4278-ba58-2491257b0549",
   "metadata": {},
   "outputs": [],
   "source": [
    "all_uni_words.update(uni_words_two)"
   ]
  },
  {
   "cell_type": "code",
   "execution_count": 25,
   "id": "383ae95e-e8ee-4227-9953-5065314402de",
   "metadata": {},
   "outputs": [
    {
     "data": {
      "text/plain": [
       "{'a',\n",
       " 'about',\n",
       " 'animals',\n",
       " 'are',\n",
       " 'canine',\n",
       " 'catching',\n",
       " 'dogs',\n",
       " 'fun',\n",
       " 'furry',\n",
       " 'is',\n",
       " 'our',\n",
       " 'pets',\n",
       " 'popular',\n",
       " 'sport',\n",
       " 'story',\n",
       " 'surfing',\n",
       " 'this',\n",
       " 'water',\n",
       " 'waves'}"
      ]
     },
     "execution_count": 25,
     "metadata": {},
     "output_type": "execute_result"
    }
   ],
   "source": [
    "all_uni_words"
   ]
  },
  {
   "cell_type": "code",
   "execution_count": 32,
   "id": "0ea98f74-44d1-45b9-b76c-e0cddf85a547",
   "metadata": {},
   "outputs": [],
   "source": [
    "full_vocab= dict()\n",
    "i=0\n",
    "for word in all_uni_words:\n",
    "    full_vocab[word]=i\n",
    "    i=i+1"
   ]
  },
  {
   "cell_type": "code",
   "execution_count": 33,
   "id": "200f7842-c346-4790-a3a4-496454e05767",
   "metadata": {},
   "outputs": [
    {
     "data": {
      "text/plain": [
       "{'dogs': 0,\n",
       " 'this': 1,\n",
       " 'fun': 2,\n",
       " 'a': 3,\n",
       " 'water': 4,\n",
       " 'popular': 5,\n",
       " 'catching': 6,\n",
       " 'canine': 7,\n",
       " 'about': 8,\n",
       " 'waves': 9,\n",
       " 'story': 10,\n",
       " 'furry': 11,\n",
       " 'are': 12,\n",
       " 'sport': 13,\n",
       " 'is': 14,\n",
       " 'surfing': 15,\n",
       " 'pets': 16,\n",
       " 'our': 17,\n",
       " 'animals': 18}"
      ]
     },
     "execution_count": 33,
     "metadata": {},
     "output_type": "execute_result"
    }
   ],
   "source": [
    "full_vocab"
   ]
  },
  {
   "cell_type": "code",
   "execution_count": 54,
   "id": "fea19121-347c-4abc-a428-faf9c5d8ea54",
   "metadata": {},
   "outputs": [],
   "source": [
    "one_freq=[0]*len(full_vocab)\n",
    "two_freq=[0]*len(full_vocab)\n",
    "all_words=['']*len(full_vocab)"
   ]
  },
  {
   "cell_type": "code",
   "execution_count": 38,
   "id": "88b97ae8-a683-4986-9b17-9fe0f532a214",
   "metadata": {},
   "outputs": [
    {
     "data": {
      "text/plain": [
       "['', '', '', '', '', '', '', '', '', '', '', '', '', '', '', '', '', '', '']"
      ]
     },
     "execution_count": 38,
     "metadata": {},
     "output_type": "execute_result"
    }
   ],
   "source": [
    "all_words"
   ]
  },
  {
   "cell_type": "code",
   "execution_count": 39,
   "id": "f76ed1b5-4425-4172-8dbf-0402744ad5dc",
   "metadata": {},
   "outputs": [
    {
     "data": {
      "text/plain": [
       "[0, 0, 0, 0, 0, 0, 0, 0, 0, 0, 0, 0, 0, 0, 0, 0, 0, 0, 0]"
      ]
     },
     "execution_count": 39,
     "metadata": {},
     "output_type": "execute_result"
    }
   ],
   "source": [
    "one_freq"
   ]
  },
  {
   "cell_type": "code",
   "execution_count": 40,
   "id": "83f09982-e33c-45c8-97ee-8cc2ef5a1215",
   "metadata": {},
   "outputs": [],
   "source": [
    "with open('./18-Naive-Bayes-and-NLP/One.txt') as f:\n",
    "    one_text=f.read().lower().split()"
   ]
  },
  {
   "cell_type": "code",
   "execution_count": 63,
   "id": "83fe46d1-f341-47d2-9a6c-c0c9bdbc73a7",
   "metadata": {},
   "outputs": [],
   "source": [
    "for word in one_text:\n",
    "    word_ind = full_vocab[word]\n",
    "    one_freq[word_ind]=one_freq[word_ind]+1"
   ]
  },
  {
   "cell_type": "code",
   "execution_count": 64,
   "id": "4d63e07d-2bc2-4a43-992d-360be03492e5",
   "metadata": {},
   "outputs": [
    {
     "data": {
      "text/plain": [
       "[2, 1, 0, 1, 0, 0, 0, 1, 1, 0, 1, 1, 1, 0, 1, 0, 1, 1, 1]"
      ]
     },
     "execution_count": 64,
     "metadata": {},
     "output_type": "execute_result"
    }
   ],
   "source": [
    "one_freq"
   ]
  },
  {
   "cell_type": "code",
   "execution_count": 43,
   "id": "c2a0fef0-7e10-4239-94a0-b9882ccf8fea",
   "metadata": {},
   "outputs": [],
   "source": [
    "with open('./18-Naive-Bayes-and-NLP/Two.txt') as g:\n",
    "    two_text=g.read().lower().split()"
   ]
  },
  {
   "cell_type": "code",
   "execution_count": 66,
   "id": "7305946e-8595-41f2-a92a-8a1fbaddcfbf",
   "metadata": {},
   "outputs": [],
   "source": [
    "for word in two_text:\n",
    "    word_ind = full_vocab[word]\n",
    "    two_freq[word_ind]=two_freq[word_ind]+1"
   ]
  },
  {
   "cell_type": "code",
   "execution_count": 67,
   "id": "c2699a7a-5c5f-47b9-b8cd-59b61936e6b2",
   "metadata": {},
   "outputs": [
    {
     "data": {
      "text/plain": [
       "[0, 1, 1, 1, 1, 1, 1, 0, 1, 1, 1, 0, 0, 1, 3, 2, 0, 0, 0]"
      ]
     },
     "execution_count": 67,
     "metadata": {},
     "output_type": "execute_result"
    }
   ],
   "source": [
    "two_freq"
   ]
  },
  {
   "cell_type": "code",
   "execution_count": 55,
   "id": "3604f638-52d8-4620-a2c3-12302bf5f5db",
   "metadata": {},
   "outputs": [],
   "source": [
    "\n",
    "for word in full_vocab:\n",
    "    word_ind= full_vocab[word]\n",
    "    all_words[word_ind]=word\n",
    "    "
   ]
  },
  {
   "cell_type": "code",
   "execution_count": 56,
   "id": "dff1c206-2ef3-4acb-93da-551ca188126a",
   "metadata": {},
   "outputs": [
    {
     "data": {
      "text/plain": [
       "['dogs',\n",
       " 'this',\n",
       " 'fun',\n",
       " 'a',\n",
       " 'water',\n",
       " 'popular',\n",
       " 'catching',\n",
       " 'canine',\n",
       " 'about',\n",
       " 'waves',\n",
       " 'story',\n",
       " 'furry',\n",
       " 'are',\n",
       " 'sport',\n",
       " 'is',\n",
       " 'surfing',\n",
       " 'pets',\n",
       " 'our',\n",
       " 'animals']"
      ]
     },
     "execution_count": 56,
     "metadata": {},
     "output_type": "execute_result"
    }
   ],
   "source": [
    "all_words"
   ]
  },
  {
   "cell_type": "code",
   "execution_count": 57,
   "id": "db432cdf-2283-4213-95cd-12c54cc51653",
   "metadata": {},
   "outputs": [],
   "source": [
    "import pandas as pd"
   ]
  },
  {
   "cell_type": "code",
   "execution_count": 69,
   "id": "0db43456-e463-424f-bd30-60e494324c91",
   "metadata": {},
   "outputs": [],
   "source": [
    "bow=pd.DataFrame(data=[one_freq,two_freq],columns=all_words)"
   ]
  },
  {
   "cell_type": "code",
   "execution_count": 70,
   "id": "d2a02c25-959d-4a5c-95eb-6f5c21bba2b9",
   "metadata": {},
   "outputs": [
    {
     "data": {
      "text/html": [
       "<div>\n",
       "<style scoped>\n",
       "    .dataframe tbody tr th:only-of-type {\n",
       "        vertical-align: middle;\n",
       "    }\n",
       "\n",
       "    .dataframe tbody tr th {\n",
       "        vertical-align: top;\n",
       "    }\n",
       "\n",
       "    .dataframe thead th {\n",
       "        text-align: right;\n",
       "    }\n",
       "</style>\n",
       "<table border=\"1\" class=\"dataframe\">\n",
       "  <thead>\n",
       "    <tr style=\"text-align: right;\">\n",
       "      <th></th>\n",
       "      <th>dogs</th>\n",
       "      <th>this</th>\n",
       "      <th>fun</th>\n",
       "      <th>a</th>\n",
       "      <th>water</th>\n",
       "      <th>popular</th>\n",
       "      <th>catching</th>\n",
       "      <th>canine</th>\n",
       "      <th>about</th>\n",
       "      <th>waves</th>\n",
       "      <th>story</th>\n",
       "      <th>furry</th>\n",
       "      <th>are</th>\n",
       "      <th>sport</th>\n",
       "      <th>is</th>\n",
       "      <th>surfing</th>\n",
       "      <th>pets</th>\n",
       "      <th>our</th>\n",
       "      <th>animals</th>\n",
       "    </tr>\n",
       "  </thead>\n",
       "  <tbody>\n",
       "    <tr>\n",
       "      <th>0</th>\n",
       "      <td>2</td>\n",
       "      <td>1</td>\n",
       "      <td>0</td>\n",
       "      <td>1</td>\n",
       "      <td>0</td>\n",
       "      <td>0</td>\n",
       "      <td>0</td>\n",
       "      <td>1</td>\n",
       "      <td>1</td>\n",
       "      <td>0</td>\n",
       "      <td>1</td>\n",
       "      <td>1</td>\n",
       "      <td>1</td>\n",
       "      <td>0</td>\n",
       "      <td>1</td>\n",
       "      <td>0</td>\n",
       "      <td>1</td>\n",
       "      <td>1</td>\n",
       "      <td>1</td>\n",
       "    </tr>\n",
       "    <tr>\n",
       "      <th>1</th>\n",
       "      <td>0</td>\n",
       "      <td>1</td>\n",
       "      <td>1</td>\n",
       "      <td>1</td>\n",
       "      <td>1</td>\n",
       "      <td>1</td>\n",
       "      <td>1</td>\n",
       "      <td>0</td>\n",
       "      <td>1</td>\n",
       "      <td>1</td>\n",
       "      <td>1</td>\n",
       "      <td>0</td>\n",
       "      <td>0</td>\n",
       "      <td>1</td>\n",
       "      <td>3</td>\n",
       "      <td>2</td>\n",
       "      <td>0</td>\n",
       "      <td>0</td>\n",
       "      <td>0</td>\n",
       "    </tr>\n",
       "  </tbody>\n",
       "</table>\n",
       "</div>"
      ],
      "text/plain": [
       "   dogs  this  fun  a  water  popular  catching  canine  about  waves  story  \\\n",
       "0     2     1    0  1      0        0         0       1      1      0      1   \n",
       "1     0     1    1  1      1        1         1       0      1      1      1   \n",
       "\n",
       "   furry  are  sport  is  surfing  pets  our  animals  \n",
       "0      1    1      0   1        0     1    1        1  \n",
       "1      0    0      1   3        2     0    0        0  "
      ]
     },
     "execution_count": 70,
     "metadata": {},
     "output_type": "execute_result"
    }
   ],
   "source": [
    "bow"
   ]
  },
  {
   "cell_type": "code",
   "execution_count": null,
   "id": "c683676b-9f93-4ac4-94c4-e580a7d8a605",
   "metadata": {},
   "outputs": [],
   "source": []
  }
 ],
 "metadata": {
  "kernelspec": {
   "display_name": "Python 3 (ipykernel)",
   "language": "python",
   "name": "python3"
  },
  "language_info": {
   "codemirror_mode": {
    "name": "ipython",
    "version": 3
   },
   "file_extension": ".py",
   "mimetype": "text/x-python",
   "name": "python",
   "nbconvert_exporter": "python",
   "pygments_lexer": "ipython3",
   "version": "3.11.7"
  }
 },
 "nbformat": 4,
 "nbformat_minor": 5
}
