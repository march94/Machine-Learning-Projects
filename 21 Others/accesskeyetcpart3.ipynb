{
 "cells": [
  {
   "cell_type": "code",
   "execution_count": 11,
   "id": "0b09380a-8f62-4c1c-b21b-b3fbed0072ca",
   "metadata": {},
   "outputs": [],
   "source": [
    "def my_func(name='noname'):\n",
    "    '''this prints out the username'''\n",
    "    print('ok '+name)"
   ]
  },
  {
   "cell_type": "code",
   "execution_count": 8,
   "id": "1953cd73-e55f-4502-9d09-37366b842d4b",
   "metadata": {},
   "outputs": [
    {
     "name": "stdout",
     "output_type": "stream",
     "text": [
      "ok March\n"
     ]
    }
   ],
   "source": [
    "my_func('March')\n"
   ]
  },
  {
   "cell_type": "code",
   "execution_count": 10,
   "id": "b1fc7e5f-a6d9-49f1-80c2-542f52f0b054",
   "metadata": {},
   "outputs": [
    {
     "name": "stdout",
     "output_type": "stream",
     "text": [
      "ok noname\n"
     ]
    }
   ],
   "source": [
    "my_func()"
   ]
  },
  {
   "cell_type": "code",
   "execution_count": 13,
   "id": "b2f0c382-eb48-49cc-b174-259bf98eebe4",
   "metadata": {},
   "outputs": [
    {
     "name": "stdout",
     "output_type": "stream",
     "text": [
      "4\n"
     ]
    }
   ],
   "source": [
    "def square(x):\n",
    "    return(x**2)\n",
    "\n",
    "result=square(2)\n",
    "print(result)"
   ]
  },
  {
   "cell_type": "code",
   "execution_count": 14,
   "id": "d6ea6c50-e9e6-4d4b-821a-c0011202d61a",
   "metadata": {},
   "outputs": [
    {
     "data": {
      "text/plain": [
       "int"
      ]
     },
     "execution_count": 14,
     "metadata": {},
     "output_type": "execute_result"
    }
   ],
   "source": [
    "type(result)"
   ]
  },
  {
   "cell_type": "code",
   "execution_count": 16,
   "id": "49a45865-e3cc-4153-a7fe-bd6033674597",
   "metadata": {},
   "outputs": [
    {
     "data": {
      "text/plain": [
       "<function __main__.<lambda>(x)>"
      ]
     },
     "execution_count": 16,
     "metadata": {},
     "output_type": "execute_result"
    }
   ],
   "source": [
    "'''they are same'''\n",
    "def times_two(x):\n",
    "    return x*2\n",
    "lambda x:x*2"
   ]
  },
  {
   "cell_type": "code",
   "execution_count": 17,
   "id": "1806b5fd-c7af-4a0f-82ac-c3bc95632739",
   "metadata": {},
   "outputs": [
    {
     "data": {
      "text/plain": [
       "'sam sam'"
      ]
     },
     "execution_count": 17,
     "metadata": {},
     "output_type": "execute_result"
    }
   ],
   "source": [
    "st= 'SAM SAM'\n",
    "st.lower()"
   ]
  },
  {
   "cell_type": "code",
   "execution_count": 18,
   "id": "b2d2eafe-1334-4f68-963c-496fa9e49762",
   "metadata": {},
   "outputs": [
    {
     "data": {
      "text/plain": [
       "['SAM', 'SAM']"
      ]
     },
     "execution_count": 18,
     "metadata": {},
     "output_type": "execute_result"
    }
   ],
   "source": [
    "st.split()"
   ]
  },
  {
   "cell_type": "code",
   "execution_count": 22,
   "id": "73545ae7-e3b5-460b-85d7-cef43aea3273",
   "metadata": {},
   "outputs": [
    {
     "data": {
      "text/plain": [
       "'sports'"
      ]
     },
     "execution_count": 22,
     "metadata": {},
     "output_type": "execute_result"
    }
   ],
   "source": [
    "tweet= 'hello #sports'\n",
    "tweet.split('#')[-1]\n"
   ]
  },
  {
   "cell_type": "code",
   "execution_count": 25,
   "id": "03c47090-448d-4d69-9629-6a4a50d6fc8c",
   "metadata": {},
   "outputs": [
    {
     "data": {
      "text/plain": [
       "dict_items([('k1', 'v1'), ('k2', 'v2')])"
      ]
     },
     "execution_count": 25,
     "metadata": {},
     "output_type": "execute_result"
    }
   ],
   "source": [
    "dic={'k1':'v1','k2':'v2'}\n",
    "dic.keys()\n",
    "dic.items()"
   ]
  },
  {
   "cell_type": "code",
   "execution_count": 28,
   "id": "c8856f94-a274-4af9-af1e-7feab819a7ca",
   "metadata": {},
   "outputs": [],
   "source": [
    "mylist = [1, 2,3]\n",
    "last= mylist.pop(2)"
   ]
  },
  {
   "cell_type": "code",
   "execution_count": 30,
   "id": "f572ff04-4275-4a9a-8618-3e89b94e7e37",
   "metadata": {},
   "outputs": [
    {
     "data": {
      "text/plain": [
       "[1, 2]"
      ]
     },
     "execution_count": 30,
     "metadata": {},
     "output_type": "execute_result"
    }
   ],
   "source": [
    "mylist"
   ]
  },
  {
   "cell_type": "code",
   "execution_count": 29,
   "id": "bca5adfa-f677-4d78-87ce-7773a925a443",
   "metadata": {},
   "outputs": [
    {
     "data": {
      "text/plain": [
       "3"
      ]
     },
     "execution_count": 29,
     "metadata": {},
     "output_type": "execute_result"
    }
   ],
   "source": [
    "last"
   ]
  },
  {
   "cell_type": "code",
   "execution_count": 31,
   "id": "53f2e413-2c47-4cb7-941f-344b06ebba1f",
   "metadata": {},
   "outputs": [
    {
     "data": {
      "text/plain": [
       "True"
      ]
     },
     "execution_count": 31,
     "metadata": {},
     "output_type": "execute_result"
    }
   ],
   "source": [
    "2 in mylist"
   ]
  },
  {
   "cell_type": "code",
   "execution_count": 32,
   "id": "b0e798d8-0aa4-4163-b8ad-13358802d238",
   "metadata": {},
   "outputs": [
    {
     "data": {
      "text/plain": [
       "False"
      ]
     },
     "execution_count": 32,
     "metadata": {},
     "output_type": "execute_result"
    }
   ],
   "source": [
    "3 in mylist"
   ]
  },
  {
   "cell_type": "code",
   "execution_count": null,
   "id": "290b523c-3b6c-45c4-975f-e77432d3a3db",
   "metadata": {},
   "outputs": [],
   "source": []
  }
 ],
 "metadata": {
  "kernelspec": {
   "display_name": "Python 3 (ipykernel)",
   "language": "python",
   "name": "python3"
  },
  "language_info": {
   "codemirror_mode": {
    "name": "ipython",
    "version": 3
   },
   "file_extension": ".py",
   "mimetype": "text/x-python",
   "name": "python",
   "nbconvert_exporter": "python",
   "pygments_lexer": "ipython3",
   "version": "3.11.7"
  }
 },
 "nbformat": 4,
 "nbformat_minor": 5
}
